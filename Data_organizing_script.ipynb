{
 "cells": [
  {
   "cell_type": "code",
   "execution_count": 1,
   "id": "b6c176d2",
   "metadata": {},
   "outputs": [],
   "source": [
    "from pathlib import Path"
   ]
  },
  {
   "cell_type": "code",
   "execution_count": 41,
   "id": "52f15d86",
   "metadata": {},
   "outputs": [],
   "source": [
    "our_files = Path(\"C:/Users/Admin/Desktop/Final Year Project/data/dataset\")"
   ]
  },
  {
   "cell_type": "code",
   "execution_count": 16,
   "id": "3a14ae98",
   "metadata": {},
   "outputs": [
    {
     "name": "stdout",
     "output_type": "stream",
     "text": [
      "True\n"
     ]
    }
   ],
   "source": [
    "print(our_files.is_dir())"
   ]
  },
  {
   "cell_type": "code",
   "execution_count": 17,
   "id": "2dcc5b27",
   "metadata": {},
   "outputs": [
    {
     "name": "stdout",
     "output_type": "stream",
     "text": [
      "C:\\Users\\Admin\\Desktop\\Final Year Project\\data\n"
     ]
    }
   ],
   "source": [
    "print(our_files.parent)"
   ]
  },
  {
   "cell_type": "code",
   "execution_count": 48,
   "id": "70c4a76c",
   "metadata": {},
   "outputs": [],
   "source": [
    "for file in our_files.iterdir():\n",
    "\n",
    "    # 1) Check if the file is a file\n",
    "    if file.is_file() and file.stem != \".DS_Store\":\n",
    "        # 2) Create helpful variables\n",
    "        directory = file.parent\n",
    "        extension = file.suffix\n",
    "\n",
    "        old_name = file.stem\n",
    "        plastic_type = str(file)[60:63]\n",
    "        new_file_name = str(file)[55:-4]\n",
    "        new_file = f'{new_file_name}{extension}'\n",
    "        \n",
    "        new_path = our_files.joinpath(plastic_type)\n",
    "    \n",
    "        if not new_path.exists():\n",
    "            new_path.mkdir()\n",
    "            \n",
    "        new_file_path = new_path.joinpath(new_file)\n",
    "        \n",
    "        file.replace(new_file_path)"
   ]
  },
  {
   "cell_type": "code",
   "execution_count": null,
   "id": "ae322e69",
   "metadata": {},
   "outputs": [],
   "source": []
  }
 ],
 "metadata": {
  "kernelspec": {
   "display_name": "Python 3 (ipykernel)",
   "language": "python",
   "name": "python3"
  },
  "language_info": {
   "codemirror_mode": {
    "name": "ipython",
    "version": 3
   },
   "file_extension": ".py",
   "mimetype": "text/x-python",
   "name": "python",
   "nbconvert_exporter": "python",
   "pygments_lexer": "ipython3",
   "version": "3.10.4"
  }
 },
 "nbformat": 4,
 "nbformat_minor": 5
}
